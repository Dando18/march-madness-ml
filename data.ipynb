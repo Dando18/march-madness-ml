{
 "cells": [
  {
   "cell_type": "markdown",
   "metadata": {},
   "source": [
    "# The notebook is for some manual data scraping"
   ]
  },
  {
   "cell_type": "code",
   "execution_count": 114,
   "metadata": {},
   "outputs": [],
   "source": [
    "# stdlib imports\n",
    "from urllib.request import urlopen\n",
    "from os.path import join as path_join\n",
    "\n",
    "# tpl imports\n",
    "import pandas as pd"
   ]
  },
  {
   "cell_type": "code",
   "execution_count": 115,
   "metadata": {},
   "outputs": [],
   "source": [
    "# settings\n",
    "URL_PATTERN = 'https://barttorvik.com/trank.php?year={year}&end={year}0312&csv=1#'\n",
    "TEAM_URL_PATTERN = 'http://barttorvik.com/{year}_team_results.csv'\n",
    "YEARS = (2008, 2022)\n",
    "OUTPUT = path_join('data', 'raw_cbb.csv')"
   ]
  },
  {
   "cell_type": "code",
   "execution_count": 116,
   "metadata": {},
   "outputs": [],
   "source": [
    "# read in web pages\n",
    "columns = ['TEAM', 'ADJOE', 'ADJDE', 'BARTHAG', 'RECORD', 'W', 'G', 'EFG_O', 'EFG_D', 'FTR', 'FTRD', 'TOR', 'TORD', \n",
    "        'ORB', 'DRB', 'UNK1', '2P_O', '2P_D', '3P_O', '3P_D', 'UNK2', 'UNK3', 'UNK4', 'UNK5', 'UNK6', 'UNK7', 'ADJ_T', \n",
    "        'UNK8', 'UNK9', 'UNK10', 'YEAR', 'UNK11', 'UNK12', 'UNK13', 'WAB', 'UNK14', 'UNK15']\n",
    "data_by_year = {}\n",
    "for year in range(YEARS[0], YEARS[1]+1):\n",
    "    resource = urlopen(URL_PATTERN.format(year=year))\n",
    "    stats_df = pd.read_csv(resource, header=None, names=columns, index_col=False, usecols=lambda c: not c.startswith('UNK'))\n",
    "\n",
    "    resource = urlopen(TEAM_URL_PATTERN.format(year=year))\n",
    "    conf_df = pd.read_csv(resource, index_col=False, usecols=['team', 'conf'])\n",
    "    conf_df.rename(columns={'team': 'TEAM', 'conf': 'CONF'}, inplace=True)\n",
    "\n",
    "    merged_df = stats_df.merge(conf_df, how='left', on='TEAM', validate='1:1')\n",
    "\n",
    "    data_by_year[year] = merged_df\n",
    "\n",
    "# combine into one\n",
    "combined_df = pd.concat(data_by_year.values(), ignore_index=True)\n"
   ]
  },
  {
   "cell_type": "code",
   "execution_count": 117,
   "metadata": {},
   "outputs": [],
   "source": [
    "# save data to csv\n",
    "combined_df.to_csv(OUTPUT)"
   ]
  }
 ],
 "metadata": {
  "interpreter": {
   "hash": "31f2aee4e71d21fbe5cf8b01ff0e069b9275f58929596ceb00d14d90e3e16cd6"
  },
  "kernelspec": {
   "display_name": "Python 3.8.10 64-bit",
   "language": "python",
   "name": "python3"
  },
  "language_info": {
   "codemirror_mode": {
    "name": "ipython",
    "version": 3
   },
   "file_extension": ".py",
   "mimetype": "text/x-python",
   "name": "python",
   "nbconvert_exporter": "python",
   "pygments_lexer": "ipython3",
   "version": "3.8.10"
  },
  "orig_nbformat": 4
 },
 "nbformat": 4,
 "nbformat_minor": 2
}
